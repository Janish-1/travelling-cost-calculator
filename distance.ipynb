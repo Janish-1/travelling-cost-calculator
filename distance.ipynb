{
 "cells": [
  {
   "cell_type": "code",
   "execution_count": 2,
   "metadata": {},
   "outputs": [],
   "source": [
    "from geopy import distance,Point\n",
    "from geopy.geocoders import Nominatim\n",
    "import pandas as pd"
   ]
  },
  {
   "cell_type": "code",
   "execution_count": 4,
   "metadata": {},
   "outputs": [
    {
     "data": {
      "text/html": [
       "<div>\n",
       "<style scoped>\n",
       "    .dataframe tbody tr th:only-of-type {\n",
       "        vertical-align: middle;\n",
       "    }\n",
       "\n",
       "    .dataframe tbody tr th {\n",
       "        vertical-align: top;\n",
       "    }\n",
       "\n",
       "    .dataframe thead th {\n",
       "        text-align: right;\n",
       "    }\n",
       "</style>\n",
       "<table border=\"1\" class=\"dataframe\">\n",
       "  <thead>\n",
       "    <tr style=\"text-align: right;\">\n",
       "      <th></th>\n",
       "      <th>source</th>\n",
       "      <th>destination</th>\n",
       "    </tr>\n",
       "  </thead>\n",
       "  <tbody>\n",
       "    <tr>\n",
       "      <th>0</th>\n",
       "      <td>indore</td>\n",
       "      <td>bhopal</td>\n",
       "    </tr>\n",
       "  </tbody>\n",
       "</table>\n",
       "</div>"
      ],
      "text/plain": [
       "   source destination\n",
       "0  indore      bhopal"
      ]
     },
     "execution_count": 4,
     "metadata": {},
     "output_type": "execute_result"
    }
   ],
   "source": [
    "geolocator=Nominatim(user_agent=\"travelapp\")\n",
    "df=pd.read_csv('journey.csv')\n",
    "df"
   ]
  },
  {
   "cell_type": "code",
   "execution_count": 5,
   "metadata": {},
   "outputs": [],
   "source": [
    "lat = []\n",
    "long = []\n",
    "for row in df['source']:\n",
    "    addr = geolocator.geocode(row, timeout=10)\n",
    "    if addr is None:\n",
    "        lat.append(None)\n",
    "        long.append(None)\n",
    "    else:\n",
    "        latitude = addr.latitude\n",
    "        longitude = addr.longitude  \n",
    "    \n",
    "    lat.append(latitude)\n",
    "    long.append(longitude)\n",
    "\n",
    "df['latitude1'] = lat\n",
    "df['longitude1'] = long"
   ]
  },
  {
   "cell_type": "code",
   "execution_count": 6,
   "metadata": {},
   "outputs": [],
   "source": [
    "lat = []\n",
    "long = []\n",
    "for row in df['destination']:\n",
    "    addr = geolocator.geocode(row, timeout=10)\n",
    "    if addr is None:\n",
    "        lat.append(None)\n",
    "        long.append(None)\n",
    "    else:\n",
    "        latitude = addr.latitude\n",
    "        longitude = addr.longitude  \n",
    "    \n",
    "    lat.append(latitude)\n",
    "    long.append(longitude)\n",
    "\n",
    "df['latitude2'] = lat\n",
    "df['longitude2'] = long"
   ]
  },
  {
   "cell_type": "code",
   "execution_count": 7,
   "metadata": {},
   "outputs": [
    {
     "data": {
      "text/html": [
       "<div>\n",
       "<style scoped>\n",
       "    .dataframe tbody tr th:only-of-type {\n",
       "        vertical-align: middle;\n",
       "    }\n",
       "\n",
       "    .dataframe tbody tr th {\n",
       "        vertical-align: top;\n",
       "    }\n",
       "\n",
       "    .dataframe thead th {\n",
       "        text-align: right;\n",
       "    }\n",
       "</style>\n",
       "<table border=\"1\" class=\"dataframe\">\n",
       "  <thead>\n",
       "    <tr style=\"text-align: right;\">\n",
       "      <th></th>\n",
       "      <th>source</th>\n",
       "      <th>destination</th>\n",
       "      <th>latitude1</th>\n",
       "      <th>longitude1</th>\n",
       "      <th>latitude2</th>\n",
       "      <th>longitude2</th>\n",
       "      <th>point1</th>\n",
       "      <th>point2</th>\n",
       "      <th>distance_km</th>\n",
       "    </tr>\n",
       "  </thead>\n",
       "  <tbody>\n",
       "    <tr>\n",
       "      <th>0</th>\n",
       "      <td>indore</td>\n",
       "      <td>bhopal</td>\n",
       "      <td>22.720362</td>\n",
       "      <td>75.8682</td>\n",
       "      <td>23.258486</td>\n",
       "      <td>77.401989</td>\n",
       "      <td>22 43m 13.3018s N, 75 52m 5.51856s E</td>\n",
       "      <td>23 15m 30.5485s N, 77 24m 7.1604s E</td>\n",
       "      <td>168.171675</td>\n",
       "    </tr>\n",
       "  </tbody>\n",
       "</table>\n",
       "</div>"
      ],
      "text/plain": [
       "   source destination  latitude1  longitude1  latitude2  longitude2  \\\n",
       "0  indore      bhopal  22.720362     75.8682  23.258486   77.401989   \n",
       "\n",
       "                                 point1                               point2  \\\n",
       "0  22 43m 13.3018s N, 75 52m 5.51856s E  23 15m 30.5485s N, 77 24m 7.1604s E   \n",
       "\n",
       "   distance_km  \n",
       "0   168.171675  "
      ]
     },
     "execution_count": 7,
     "metadata": {},
     "output_type": "execute_result"
    }
   ],
   "source": [
    "df['point1'] = df.apply(lambda row: Point(latitude=row['latitude1'], longitude=row['longitude1']), axis=1)\n",
    "df['point2'] = df.apply(lambda row: Point(latitude=row['latitude2'], longitude=row['longitude2']), axis=1)\n",
    "df['distance_km'] = df.apply(lambda row: distance.distance(row['point1'], row['point2']).km if row['point2'] is not None else float('nan'), axis=1)\n",
    "df"
   ]
  },
  {
   "cell_type": "code",
   "execution_count": 8,
   "metadata": {},
   "outputs": [
    {
     "name": "stderr",
     "output_type": "stream",
     "text": [
      "<ipython-input-8-85efdac3f8ed>:2: FutureWarning: As the xlwt package is no longer maintained, the xlwt engine will be removed in a future version of pandas. This is the only engine in pandas that supports writing in the xls format. Install openpyxl and write to an xlsx file instead. You can set the option io.excel.xls.writer to 'xlwt' to silence this warning. While this option is deprecated and will also raise a warning, it can be globally set and the warning suppressed.\n",
      "  df.to_excel('result.xls', index=False)\n"
     ]
    }
   ],
   "source": [
    "df.to_csv('result.csv', index=False)\n",
    "df.to_excel('result.xls', index=False)"
   ]
  },
  {
   "cell_type": "code",
   "execution_count": 9,
   "metadata": {},
   "outputs": [
    {
     "name": "stdout",
     "output_type": "stream",
     "text": [
      "your current TA is:  1345.373403563262  Rs\n"
     ]
    }
   ],
   "source": [
    "dis=df.distance_km.sum()\n",
    "cost_per_km=8\n",
    "ta=dis*cost_per_km\n",
    "print(\"your current TA is: \",ta,\" Rs\")"
   ]
  }
 ],
 "metadata": {
  "interpreter": {
   "hash": "9445db52b62039a53aa9f292d4a11adaa490b61a716a9b75d48e0f7973bf3ad8"
  },
  "kernelspec": {
   "display_name": "Python 3.9.7 64-bit ('env': venv)",
   "language": "python",
   "name": "python3"
  },
  "language_info": {
   "codemirror_mode": {
    "name": "ipython",
    "version": 3
   },
   "file_extension": ".py",
   "mimetype": "text/x-python",
   "name": "python",
   "nbconvert_exporter": "python",
   "pygments_lexer": "ipython3",
   "version": "3.8.11"
  },
  "orig_nbformat": 4
 },
 "nbformat": 4,
 "nbformat_minor": 2
}
